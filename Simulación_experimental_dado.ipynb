{
  "nbformat": 4,
  "nbformat_minor": 0,
  "metadata": {
    "colab": {
      "name": "Simulación_experimental_dado.ipynb",
      "provenance": [],
      "collapsed_sections": [],
      "authorship_tag": "ABX9TyOamuxLWU295iKmcCIszb2p",
      "include_colab_link": true
    },
    "kernelspec": {
      "name": "python3",
      "display_name": "Python 3"
    },
    "language_info": {
      "name": "python"
    }
  },
  "cells": [
    {
      "cell_type": "markdown",
      "metadata": {
        "id": "view-in-github",
        "colab_type": "text"
      },
      "source": [
        "<a href=\"https://colab.research.google.com/github/Saint-Diego/Colab/blob/main/Simulaci%C3%B3n_experimental_dado.ipynb\" target=\"_parent\"><img src=\"https://colab.research.google.com/assets/colab-badge.svg\" alt=\"Open In Colab\"/></a>"
      ]
    },
    {
      "cell_type": "markdown",
      "source": [
        "# __Simulación experimentos aleatorios__\n",
        " Se carga un dado de manera que los números pares tienen el doble de probabilidad de salir que los impares:\n",
        "\n",
        "\n",
        "\n",
        "*   ¿A qué es igual la probabilidad de obtener un número par?\n",
        "*   ¿Un número primo?\n",
        "*   ¿Un número primo impar?\n"
      ],
      "metadata": {
        "id": "k7tW7ALOwlpJ"
      }
    },
    {
      "cell_type": "markdown",
      "source": [
        "## __Solución analítica__.\n",
        "\n",
        "Primero definimos el espacio muestral:\n",
        "\n",
        "$$\\Omega = \\{1, \\{2,2\\}, 3, \\{4,4\\}, 5, \\{6,6\\}\\}$$ \n",
        "\n",
        "A partir del espacio muesrtral podemos verificar que la probabilidad de cada uno de los eventos elementales es $\\frac{1}{9}$. Luego:\n",
        "\n",
        "* La probabilidad de obtener un número par:\n",
        "  $$ P(par) = \\frac{2}{9} + \\frac{2}{9} +  \\frac{2}{9} = \\frac{6}{9} = \\frac{2}{3}$$\n",
        "\n",
        "* La probabilidad de obtener un número primo:\n",
        "  $$ P(primo) = \\frac{2}{9} + \\frac{1}{9} + \\frac{1}{9} = \\frac{4}{9}$$\n",
        "\n",
        "* La probabilidad de obtener un número primo impar:\n",
        "  $$ P(primo \\cap impar) = \\frac{1}{9} + \\frac{1}{9} = \\frac{2}{9} $$"
      ],
      "metadata": {
        "id": "H9tdlzpIx4m-"
      }
    },
    {
      "cell_type": "markdown",
      "source": [
        "## __Solución Simulada__\n",
        "\n",
        "Para estimar la probabilidad a través de simulación podemos simular la ocurrecia del experimento aleatorio generando un número aleatorio. Veamos como simular el lanzamiento de un dado cargado:"
      ],
      "metadata": {
        "id": "62qr3DvH5SwD"
      }
    },
    {
      "cell_type": "code",
      "source": [
        "import numpy as np\n",
        "import math\n",
        "\n",
        "par = [2,4,6]\n",
        "impar = [1,3,5]\n",
        "primo = [2,3,5]\n",
        "\n",
        "resultados = list()\n",
        "repeticiones = 10000\n",
        "\n",
        "for i in range(repeticiones):\n",
        "  dado = math.floor(np.random.rand() * 6) + 1\n",
        "\n",
        "  if par.__contains__(dado):\n",
        "    resultados.append('PAR')\n",
        "  if impar.__contains__(dado):\n",
        "    resultados.append('IMPAR')\n",
        "  if primo.__contains__(dado):\n",
        "    resultados.append('PRIMO')\n",
        "\n",
        "probabilidad_estimada = [resultados.count('PAR') / repeticiones,resultados.count('PRIMO') / repeticiones,resultados.count('IMPAR') / repeticiones]\n",
        "\n",
        "print(probabilidad_estimada)"
      ],
      "metadata": {
        "colab": {
          "base_uri": "https://localhost:8080/"
        },
        "id": "SXAvj8gi5pnq",
        "outputId": "e5b36bda-7a2e-4870-d7fa-7d35d9544bb7"
      },
      "execution_count": 4,
      "outputs": [
        {
          "output_type": "stream",
          "name": "stdout",
          "text": [
            "[0.5016, 0.5019, 0.4984]\n"
          ]
        }
      ]
    },
    {
      "cell_type": "markdown",
      "source": [
        "A continuación se presenta la la estimación de probabilidades para el ejercicio planteado"
      ],
      "metadata": {
        "id": "9k8vu3aiGZe_"
      }
    },
    {
      "cell_type": "code",
      "source": [
        "primo_e_impar = [3,5]\n",
        "serie_tiempoPar = []\n",
        "serie_tiempoPrimo = []\n",
        "serie_tiempoPrimoEImpar = []\n",
        "resultado = []\n",
        "\n",
        "for i in range(repeticiones):\n",
        "    na = math.floor(np.random.rand() * 6) + 1\n",
        "    if par.__contains__(na):\n",
        "        resultado.append('PAR')\n",
        "        resultado.append('PAR')\n",
        "    if primo.__contains__(na):\n",
        "        resultado.append('PRIMO')\n",
        "    if primo_e_impar.__contains__(na):\n",
        "        resultado.append('PRIMO_E_IMPAR')\n",
        "    \n",
        "    serie_tiempoPar.append(resultado.count('PAR')/ (i + 1))\n",
        "    serie_tiempoPrimo.append(resultado.count('PRIMO')/ (i + 1))\n",
        "    serie_tiempoPrimoEImpar.append(resultado.count('PRIMO_E_IMPAR')/ (i + 1))\n",
        "\n",
        "estimado = [resultado.count('PAR')/ repeticiones, resultado.count('PRIMO')/ repeticiones, resultado.count('PRIMO_E_IMPAR')/ repeticiones]\n",
        "\n",
        "print(estimado)"
      ],
      "metadata": {
        "colab": {
          "base_uri": "https://localhost:8080/"
        },
        "id": "RZ_2Ne10GdMi",
        "outputId": "9b9fb2c0-08ee-4902-903b-4904b0bc6c5b"
      },
      "execution_count": 9,
      "outputs": [
        {
          "output_type": "stream",
          "name": "stdout",
          "text": [
            "[1.6, 0.2, 0.4]\n"
          ]
        }
      ]
    },
    {
      "cell_type": "code",
      "source": [
        "import matplotlib.pyplot as plt\n",
        "\n",
        "plt.figure(figsize=(16, 6))\n",
        "\n",
        "plt.subplot(1, 2 ,1)\n",
        "plt.bar(['PAR', 'PRIMO', 'PRIMO E IMPAR'], estimado)\n",
        "plt.title('Probabilidad estimada: lanzar un dado cargado')\n",
        "plt.xlabel('Eventos')\n",
        "plt.ylabel('Probabilidad')\n",
        "plt.grid()\n",
        "\n",
        "\n",
        "plt.subplot(1, 2 ,2)\n",
        "plt.plot(range(repeticiones), serie_tiempoPar)\n",
        "plt.plot(range(repeticiones), [0.25]*repeticiones)\n",
        "plt.xlabel('Repeticiones')\n",
        "plt.xlabel('Probabilidad estimada')\n",
        "plt.title('Estimación de probabilidad mediante simulación')\n",
        "plt.grid()\n",
        "plt.show()"
      ],
      "metadata": {
        "colab": {
          "base_uri": "https://localhost:8080/",
          "height": 385
        },
        "id": "xJ-MbfS-fqeC",
        "outputId": "68b9d7e3-eced-4b79-bb58-ac0e74018303"
      },
      "execution_count": 10,
      "outputs": [
        {
          "output_type": "display_data",
          "data": {
            "image/png": "[encoded data removed]",
            "text/plain": [
              "<Figure size 1152x432 with 2 Axes>"
            ]
          },
          "metadata": {
            "needs_background": "light"
          }
        }
      ]
    }
  ]
}